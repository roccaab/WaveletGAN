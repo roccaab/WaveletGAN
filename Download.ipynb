{
  "nbformat": 4,
  "nbformat_minor": 0,
  "metadata": {
    "colab": {
      "provenance": [],
      "authorship_tag": "ABX9TyMD7AfadkmBejwXfcwoKYT1",
      "include_colab_link": true
    },
    "kernelspec": {
      "name": "python3",
      "display_name": "Python 3"
    },
    "language_info": {
      "name": "python"
    }
  },
  "cells": [
    {
      "cell_type": "markdown",
      "metadata": {
        "id": "view-in-github",
        "colab_type": "text"
      },
      "source": [
        "<a href=\"https://colab.research.google.com/github/roccaab/WaveletGAN/blob/main/Download.ipynb\" target=\"_parent\"><img src=\"https://colab.research.google.com/assets/colab-badge.svg\" alt=\"Open In Colab\"/></a>"
      ]
    },
    {
      "cell_type": "code",
      "execution_count": null,
      "metadata": {
        "id": "lXOCZeuCaIb9"
      },
      "outputs": [],
      "source": [
        "import os\n",
        "import json\n",
        "\n",
        "def extract_pga(file_path):\n",
        "    with open(file_path, 'r') as file:\n",
        "        lines = file.readlines()\n",
        "        # Supponiamo che i dati di accelerazione siano nella terza colonna\n",
        "        accelerations = [float(line.split()[2]) for line in lines]\n",
        "        pga = max(abs(a) for a in accelerations)\n",
        "        return pga\n",
        "\n",
        "def process_files(directory):\n",
        "    features = []\n",
        "    for filename in os.listdir(directory):\n",
        "        if filename.endswith(\".ASC\"):\n",
        "            file_path = os.path.join(directory, filename)\n",
        "            pga = extract_pga(file_path)\n",
        "            event_id = filename.split('.')[5]  # Estrai l'ID dell'evento dal nome del file\n",
        "            feature = {\n",
        "                \"event_id\": event_id,\n",
        "                \"pga\": pga,\n",
        "                \"magnitude\": 6.0  # Esempio di magnitudo, dovresti estrarre questa informazione dai metadati\n",
        "            }\n",
        "            features.append(feature)\n",
        "    return features\n",
        "\n",
        "def save_to_json(features, output_file):\n",
        "    with open(output_file, 'w') as f:\n",
        "        json.dump(features, f, indent=4)\n",
        "\n",
        "if __name__ == \"__main__\":\n",
        "    directory = \"output_folder\"\n",
        "    output_file = \"features.json\"\n",
        "    features = process_files(directory)\n",
        "    save_to_json(features, output_file)"
      ]
    }
  ]
}