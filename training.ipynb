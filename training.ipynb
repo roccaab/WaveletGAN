{
  "nbformat": 4,
  "nbformat_minor": 0,
  "metadata": {
    "colab": {
      "provenance": [],
      "authorship_tag": "ABX9TyO0yDWHvA7LV0HcDrPZ2J4b",
      "include_colab_link": true
    },
    "kernelspec": {
      "name": "python3",
      "display_name": "Python 3"
    },
    "language_info": {
      "name": "python"
    }
  },
  "cells": [
    {
      "cell_type": "markdown",
      "metadata": {
        "id": "view-in-github",
        "colab_type": "text"
      },
      "source": [
        "<a href=\"https://colab.research.google.com/github/roccaab/WaveletGAN/blob/main/training.ipynb\" target=\"_parent\"><img src=\"https://colab.research.google.com/assets/colab-badge.svg\" alt=\"Open In Colab\"/></a>"
      ]
    },
    {
      "cell_type": "code",
      "execution_count": null,
      "metadata": {
        "id": "lXOCZeuCaIb9"
      },
      "outputs": [],
      "source": [
        "# Parametri di training\n",
        "num_epochs = 100\n",
        "batch_size = 32\n",
        "latent_dim = 100\n",
        "device = torch.device(\"cuda\" if torch.cuda.is_available() else \"cpu\")\n",
        "\n",
        "# Inizializzazione del generatore e dei discriminatori\n",
        "generator = Generator(latent_dim=latent_dim).to(device)\n",
        "discriminators = [DiscriminatorWavelet().to(device) for _ in range(6)]\n",
        "\n",
        "optimizer_G = optim.Adam(generator.parameters(), lr=0.0002, betas=(0.5, 0.999))\n",
        "# Ottimizzatore per i discriminatori: aggrega i parametri di tutti\n",
        "optimizer_D = optim.Adam([p for disc in discriminators for p in disc.parameters()], lr=0.0002, betas=(0.5, 0.999))\n",
        "criterion = nn.BCELoss()\n",
        "\n",
        "# Simulazione di un dataloader (da sostituire con il proprio)\n",
        "# Supponiamo di avere un dataset di accelerogrammi di 2000 campioni già segmentati attorno al picco PGA\n",
        "# e un tensore di condizioni (magnitudo, PGA)\n",
        "# Ad esempio:\n",
        "dummy_signals = torch.randn(500, 2000)  # 500 segnali reali\n",
        "dummy_conditions = torch.randn(500, 2)   # condizioni casuali\n",
        "\n",
        "# Creiamo un semplice DataLoader\n",
        "from torch.utils.data import TensorDataset, DataLoader\n",
        "dataset = TensorDataset(dummy_signals, dummy_conditions)\n",
        "data_loader = DataLoader(dataset, batch_size=batch_size, shuffle=True)\n",
        "\n",
        "# Training Loop\n",
        "for epoch in range(num_epochs):\n",
        "    for real_signals, conditions in data_loader:\n",
        "        real_signals = real_signals.to(device)\n",
        "        conditions = conditions.to(device)\n",
        "\n",
        "        # Normalizzazione del segnale\n",
        "        real_signals = normalize_signal(real_signals)\n",
        "\n",
        "        # Generazione di segnali sintetici\n",
        "        z = torch.randn(real_signals.size(0), latent_dim, device=device)\n",
        "        fake_signals = generator(z, conditions)\n",
        "        fake_signals = normalize_signal(fake_signals)\n",
        "\n",
        "        # Decomposizione wavelet per segnali reali e generati\n",
        "        wavelet_real = wavelet_decomposition(real_signals)  # (batch, 6, 2000)\n",
        "        wavelet_fake = wavelet_decomposition(fake_signals)\n",
        "\n",
        "        # Aggiornamento dei Discriminatori\n",
        "        optimizer_D.zero_grad()\n",
        "        loss_D, loss_G = total_loss(discriminators, wavelet_real, wavelet_fake, conditions, criterion)\n",
        "        loss_D.backward(retain_graph=True)\n",
        "        optimizer_D.step()\n",
        "\n",
        "        # Aggiornamento del Generatore\n",
        "        optimizer_G.zero_grad()\n",
        "        # Rigeneriamo il segnale sintetico per il passo del generatore\n",
        "        z = torch.randn(real_signals.size(0), latent_dim, device=device)\n",
        "        fake_signals = generator(z, conditions)\n",
        "        fake_signals = normalize_signal(fake_signals)\n",
        "        wavelet_fake = wavelet_decomposition(fake_signals)\n",
        "        _, loss_G = total_loss(discriminators, wavelet_real, wavelet_fake, conditions, criterion)\n",
        "        loss_G.backward()\n",
        "        optimizer_G.step()\n",
        "\n",
        "    print(f\"Epoch {epoch+1}/{num_epochs}: Loss D = {loss_D.item():.4f}, Loss G = {loss_G.item():.4f}\")\n",
        "\n",
        "# Fase di inferenza: generazione di un accelerogramma sintetico\n",
        "def generate_accelerogram(json_path, generator, latent_dim=100):\n",
        "    \"\"\"\n",
        "    Legge il file JSON delle condizioni, genera un accelerogramma sintetico di 10 secondi\n",
        "    e restituisce il segnale (normalizzato) e le sue componenti wavelet.\n",
        "    \"\"\"\n",
        "    condition = textToVect(json_path).to(device)  # (1, 2)\n",
        "    z = torch.randn(1, latent_dim, device=device)\n",
        "    with torch.no_grad():\n",
        "        fake_signal = generator(z, condition)  # (1, 2000)\n",
        "        fake_signal = normalize_signal(fake_signal)\n",
        "        wavelet_components = wavelet_decomposition(fake_signal)  # (1, 6, 2000)\n",
        "    return fake_signal.cpu().numpy(), wavelet_components.cpu().numpy()\n",
        "\n",
        "# Esempio di inferenza:\n",
        "# Supponendo di avere un file \"condition.json\" con le chiavi \"magnitudo\" e \"PGA\"\n",
        "# fake_accel, fake_wavelets = generate_accelerogram(\"condition.json\", generator)\n",
        "# plt.plot(fake_accel[0])\n",
        "# plt.title(\"Accelerogramma Sintetico Generato\")\n",
        "# plt.show()\n"
      ]
    }
  ]
}