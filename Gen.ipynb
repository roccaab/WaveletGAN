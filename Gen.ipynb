{
  "nbformat": 4,
  "nbformat_minor": 0,
  "metadata": {
    "colab": {
      "provenance": [],
      "authorship_tag": "ABX9TyOs1s9lmZbjhLLY2qI2HBYn",
      "include_colab_link": true
    },
    "kernelspec": {
      "name": "python3",
      "display_name": "Python 3"
    },
    "language_info": {
      "name": "python"
    }
  },
  "cells": [
    {
      "cell_type": "markdown",
      "metadata": {
        "id": "view-in-github",
        "colab_type": "text"
      },
      "source": [
        "<a href=\"https://colab.research.google.com/github/roccaab/WaveletGAN/blob/main/Gen.ipynb\" target=\"_parent\"><img src=\"https://colab.research.google.com/assets/colab-badge.svg\" alt=\"Open In Colab\"/></a>"
      ]
    },
    {
      "cell_type": "code",
      "execution_count": null,
      "metadata": {
        "id": "t2nsXFzMn37A"
      },
      "outputs": [],
      "source": [
        "class Generator(nn.Module):\n",
        "    def __init__(self, latent_dim=100, condition_dim=2, output_dim=2000):\n",
        "        super(Generator, self).__init__()\n",
        "        self.fc = nn.Linear(latent_dim + condition_dim, 4096)\n",
        "        # Riformattiamo in (batch, 16, 256) per essere processati da ConvTranspose1d\n",
        "        self.conv_blocks = nn.Sequential(\n",
        "            nn.ConvTranspose1d(16, 64, kernel_size=25, stride=4, padding=10),\n",
        "            nn.BatchNorm1d(64),\n",
        "            nn.ReLU(),\n",
        "            nn.ConvTranspose1d(64, 32, kernel_size=25, stride=4, padding=10),\n",
        "            nn.BatchNorm1d(32),\n",
        "            nn.ReLU(),\n",
        "            nn.ConvTranspose1d(32, 1, kernel_size=25, stride=4, padding=10),\n",
        "            nn.Tanh()  # assumiamo che il segnale sia normalizzato tra -1 e 1\n",
        "        )\n",
        "        self.output_dim = output_dim\n",
        "\n",
        "    def forward(self, z, condition):\n",
        "        # z: (batch, 100), condition: (batch, 2)\n",
        "        x = torch.cat((z, condition), dim=1)  # (batch, 102)\n",
        "        x = self.fc(x)  # (batch, 4096)\n",
        "        x = x.view(-1, 16, 256)  # (batch, 16, 256)\n",
        "        x = self.conv_blocks(x)  # (batch, 1, ?)\n",
        "        x = x.view(-1, self.output_dim)  # (batch, 2000)\n",
        "        return x\n",
        "\n"
      ]
    },
    {
      "cell_type": "markdown",
      "source": [],
      "metadata": {
        "id": "wsmrg4yIILig"
      }
    },
    {
      "cell_type": "code",
      "source": [
        "generate_and_zip_functions(10000, \"/mnt/data/functions\", \"/mnt/data/functions.zip\")"
      ],
      "metadata": {
        "colab": {
          "base_uri": "https://localhost:8080/"
        },
        "id": "_DXjXiw5LB73",
        "outputId": "6566b1c7-cb37-4dd1-b219-5cb25b448781"
      },
      "execution_count": null,
      "outputs": [
        {
          "metadata": {
            "tags": null
          },
          "name": "stdout",
          "output_type": "stream",
          "text": [
            "Archivio ZIP creato: /mnt/data/functions.zip\n"
          ]
        }
      ]
    }
  ]
}