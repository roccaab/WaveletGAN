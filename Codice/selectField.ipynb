{
  "nbformat": 4,
  "nbformat_minor": 0,
  "metadata": {
    "colab": {
      "provenance": [],
      "history_visible": true,
      "authorship_tag": "ABX9TyOm8U7vVHEIUu6E62GmKfCZ",
      "include_colab_link": true
    },
    "kernelspec": {
      "name": "python3",
      "display_name": "Python 3"
    },
    "language_info": {
      "name": "python"
    }
  },
  "cells": [
    {
      "cell_type": "markdown",
      "metadata": {
        "id": "view-in-github",
        "colab_type": "text"
      },
      "source": [
        "<a href=\"https://colab.research.google.com/github/roccaab/WaveletGAN/blob/main/selectField.ipynb\" target=\"_parent\"><img src=\"https://colab.research.google.com/assets/colab-badge.svg\" alt=\"Open In Colab\"/></a>"
      ]
    },
    {
      "cell_type": "code",
      "source": [
        "import pandas as pd\n",
        "\n",
        "# Percorsi dei file\n",
        "input_file = \"/content/Events.csv\"\n",
        "output_file = \"/content/ID_events.csv\"\n",
        "\n",
        "# Campi da selezionare\n",
        "fields_to_select = [\n",
        "    \"esm_event_id\",\n",
        "    \"event_time\",\n",
        "    \"ingv_event_id\",\n",
        "    \"ev_latitude\",\n",
        "    \"ev_longitude\",\n",
        "    \"ev_depth_km\",\n",
        "    \"mw\",\n",
        "    \"station_code\"\n",
        "]\n",
        "\n",
        "# Carica il dataset e seleziona i campi richiesti\n",
        "try:\n",
        "    # Legge il file CSV con separatore ';'\n",
        "    events_df = pd.read_csv(input_file, delimiter=';')\n",
        "\n",
        "    # Seleziona i campi specificati\n",
        "    selected_fields_df = events_df[fields_to_select]\n",
        "\n",
        "    # Salva il nuovo file con i campi selezionati\n",
        "    selected_fields_df.to_csv(output_file, index=False, sep=';')\n",
        "    print(f\"File riscritto con i campi selezionati: {output_file}\")\n",
        "except FileNotFoundError:\n",
        "    print(f\"Errore: il file '{input_file}' non è stato trovato.\")\n",
        "except KeyError as e:\n",
        "    print(f\"Errore: uno o più campi richiesti non sono presenti nel file. {e}\")\n",
        "except Exception as e:\n",
        "    print(f\"Errore durante il processo: {e}\")\n",
        "\n"
      ],
      "metadata": {
        "colab": {
          "base_uri": "https://localhost:8080/"
        },
        "id": "PZMXdjHM7kv4",
        "outputId": "1adb0b2d-ae1f-4447-82e4-f40a91dc962a"
      },
      "execution_count": 12,
      "outputs": [
        {
          "output_type": "stream",
          "name": "stdout",
          "text": [
            "File riscritto con i campi selezionati: /content/ID_events.csv\n"
          ]
        }
      ]
    }
  ]
}
