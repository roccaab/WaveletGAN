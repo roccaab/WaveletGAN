{
  "nbformat": 4,
  "nbformat_minor": 0,
  "metadata": {
    "colab": {
      "provenance": [],
      "authorship_tag": "ABX9TyPKiWbYAQ3hBC5gbAw5vuol",
      "include_colab_link": true
    },
    "kernelspec": {
      "name": "python3",
      "display_name": "Python 3"
    },
    "language_info": {
      "name": "python"
    }
  },
  "cells": [
    {
      "cell_type": "markdown",
      "metadata": {
        "id": "view-in-github",
        "colab_type": "text"
      },
      "source": [
        "<a href=\"https://colab.research.google.com/github/roccaab/WaveletGAN/blob/main/decomposition.ipynb\" target=\"_parent\"><img src=\"https://colab.research.google.com/assets/colab-badge.svg\" alt=\"Open In Colab\"/></a>"
      ]
    },
    {
      "cell_type": "code",
      "execution_count": null,
      "metadata": {
        "id": "lXOCZeuCaIb9"
      },
      "outputs": [],
      "source": [
        "def wavelet_decomposition(signal, wavelet='db4', level=6):\n",
        "    \"\"\"\n",
        "    Esegue la decomposizione wavelet su un batch di segnali.\n",
        "\n",
        "    Input:\n",
        "      - signal: torch.Tensor di forma (batch, 2000)\n",
        "      - wavelet: nome della wavelet (default 'db4')\n",
        "      - level: numero di livelli (default 6)\n",
        "\n",
        "    Output:\n",
        "      - coeffs_torch: torch.Tensor di forma (batch, 6, 2000)\n",
        "        (per ogni segnale, 6 componenti di dettaglio ricampionate alla lunghezza originale)\n",
        "    \"\"\"\n",
        "    batch_size = signal.shape[0]\n",
        "    coeffs_batch = []\n",
        "    for i in range(batch_size):\n",
        "        # Calcola la decomposizione wavelet; coeffs[0] è l'approssimazione, usiamo i dettagli\n",
        "        coeffs = pywt.wavedec(signal[i].cpu().numpy(), wavelet, level=level)\n",
        "        # Utilizziamo solo i coefficienti di dettaglio (6 livelli)\n",
        "        coeffs_resampled = []\n",
        "        for c in coeffs[1:]:\n",
        "            # upcoef converte i coefficienti in un segnale della lunghezza desiderata (2000)\n",
        "            rec = pywt.upcoef('d', c, wavelet, level=level, take=len(signal[i]))\n",
        "            coeffs_resampled.append(torch.tensor(rec, dtype=torch.float))\n",
        "        # Stack: forma (6, 2000)\n",
        "        coeffs_batch.append(torch.stack(coeffs_resampled))\n",
        "    coeffs_torch = torch.stack(coeffs_batch).to(signal.device)\n",
        "    return coeffs_torch"
      ]
    }
  ]
}